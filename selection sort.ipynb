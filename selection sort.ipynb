{
 "cells": [
  {
   "cell_type": "code",
   "execution_count": null,
   "id": "aware-oasis",
   "metadata": {},
   "outputs": [],
   "source": [
    "def selectionSort( itemsList ):\n",
    "    n = len( itemsList )\n",
    "    for i in range( n - 1 ): \n",
    "        minValueIndex = i\n",
    "\n",
    "        for j in range( i + 1, n ):\n",
    "            if itemsList[j] < itemsList[minValueIndex] :\n",
    "                minValueIndex = j\n",
    "\n",
    "        if minValueIndex != i :\n",
    "            temp = itemsList[i]\n",
    "            itemsList[i] = itemsList[minValueIndex]\n",
    "            itemsList[minValueIndex] = temp\n",
    "\n",
    "    return itemsList\n",
    "\n",
    "\n",
    "el = [21,6,9,33,3]\n",
    "\n",
    "print(selectionSort(el))"
   ]
  }
 ],
 "metadata": {
  "kernelspec": {
   "display_name": "Python 3",
   "language": "python",
   "name": "python3"
  },
  "language_info": {
   "codemirror_mode": {
    "name": "ipython",
    "version": 3
   },
   "file_extension": ".py",
   "mimetype": "text/x-python",
   "name": "python",
   "nbconvert_exporter": "python",
   "pygments_lexer": "ipython3",
   "version": "3.9.1"
  }
 },
 "nbformat": 4,
 "nbformat_minor": 5
}
